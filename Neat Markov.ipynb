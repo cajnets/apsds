{
 "cells": [
  {
   "cell_type": "code",
   "execution_count": null,
   "metadata": {},
   "outputs": [],
   "source": [
    "#import packages\n",
    "import numpy as np\n",
    "import pandas as pd\n",
    "import giddy # from pysal for the Markov analysis\n",
    "import mapclassify as mc\n",
    "import seaborn as sns\n",
    "import matplotlib.pyplot as plt\n",
    "\n",
    "#read in data\n",
    "f = pd.read_csv('timeseries.csv')\n",
    "x = f.drop(columns=['LSOA11CD','LSOA11NM','MSOA11CD','MSOA11NM'])\n",
    "pci = x.to_numpy()\n",
    "\n",
    "#classify values into septiles then transpose axes\n",
    "q5 = np.array([mc.FisherJenks(y,k=7).yb for y in pci]).transpose()\n",
    "print(q5[:, 0])\n",
    "\n",
    "#run the Markov analysis\n",
    "m5 = giddy.markov.Markov(q5)\n",
    "\n",
    "#visualise the probability of an LSOA changing septile\n",
    "fig, ax = plt.subplots(figsize = (7,7))\n",
    "im = sns.heatmap(m5.p, annot=True, linewidths=.5, ax=ax, cbar=True, vmin=0, vmax=0.6,\n",
    "                          square=False,  cmap=\"Greens\",fmt='.3f')\n",
    "\n",
    "plt.title('Probability of Changing Septile', fontsize=18) \n",
    "\n",
    "fig.savefig('markov_p.png', dpi=300, bbox_inches='tight', facecolor='white')\n",
    "\n",
    "#visualise the time taken for an LSOA to change septile\n",
    "fig, ax = plt.subplots(figsize = (7,7))\n",
    "im = sns.heatmap(x, annot=True, linewidths=.5, ax=ax, cbar=True, vmin=5, vmax=30,\n",
    "                          square=False,  cmap=\"Reds\",fmt='.3f')\n",
    "\n",
    "plt.title('Time Taken to Transition Between Septiles', fontsize=18) \n",
    "\n",
    "fig.savefig('markov_time.png', dpi=300, bbox_inches='tight', facecolor='white')"
   ]
  }
 ],
 "metadata": {
  "kernelspec": {
   "display_name": "Python 3",
   "language": "python",
   "name": "python3"
  },
  "language_info": {
   "codemirror_mode": {
    "name": "ipython",
    "version": 3
   },
   "file_extension": ".py",
   "mimetype": "text/x-python",
   "name": "python",
   "nbconvert_exporter": "python",
   "pygments_lexer": "ipython3",
   "version": "3.6.11"
  }
 },
 "nbformat": 4,
 "nbformat_minor": 4
}
