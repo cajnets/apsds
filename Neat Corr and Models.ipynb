{
 "cells": [
  {
   "cell_type": "code",
   "execution_count": null,
   "metadata": {},
   "outputs": [],
   "source": [
    "#packages for visualisation, correlation, and OLS regression\n",
    "import seaborn as sns\n",
    "import matplotlib.pyplot as plt\n",
    "import geopandas as gpd\n",
    "import pandas as pd\n",
    "import statsmodels.formula.api as smf\n",
    "import statsmodels.api as sm\n",
    "import numpy as np\n",
    "\n",
    "#read and merge data\n",
    "shapefile_path = r\".\\Middle_Layer_Super_Output_Areas__December_2011__Boundaries_Full_Clipped__BFC__EW_V3.shp\"\n",
    "geo = gpd.read_file(shapefile_path)\n",
    "\n",
    "data = pd.read_csv('type_efficiency_score.csv')\n",
    "\n",
    "consumption = pd.read_csv('2019_electricity.csv')\n",
    "\n",
    "df_xyz = consumption.merge(data, on='LSOA11CD', how='left')\n",
    "\n",
    "#create correlation matrix\n",
    "df_xyz.corr().round(3)\n",
    "\n",
    "#check distribution of EC values\n",
    "df['median_consumption'].hist(grid=False, bins=1000)\n",
    "\n",
    "#prepare data for OLS regression\n",
    "consumption = consumption.groupby(['MSOA11CD']).median() # aggregate data by MSOA\n",
    "\n",
    "df_xyz = consumption.merge(data, on='LSOA11CD', how='left') # re-create the dataframe\n",
    "\n",
    "#log transform the positively skewed data and remove outliers\n",
    "df['median_consumption_log'] = np.log(df['median_consumption'])\n",
    "test = df[df['median_consumption_log'] > 8.25].index \n",
    "df.drop(test , inplace=True)\n",
    "\n",
    "#fit and run the models - one example of a multiple OLS regression is shown here\n",
    "mod_c = smf.ols(\"median_consumption_log ~ HH_rooms + electricity + HH_income + environmental_score\", data=df_3).fit()\n",
    "print(mod_c.summary())\n",
    "\n",
    "#check model residules\n",
    "qqfig_a = sm.qqplot(mod_a.resid_pearson, line='r')"
   ]
  }
 ],
 "metadata": {
  "kernelspec": {
   "display_name": "Python 3",
   "language": "python",
   "name": "python3"
  },
  "language_info": {
   "codemirror_mode": {
    "name": "ipython",
    "version": 3
   },
   "file_extension": ".py",
   "mimetype": "text/x-python",
   "name": "python",
   "nbconvert_exporter": "python",
   "pygments_lexer": "ipython3",
   "version": "3.6.11"
  }
 },
 "nbformat": 4,
 "nbformat_minor": 4
}
